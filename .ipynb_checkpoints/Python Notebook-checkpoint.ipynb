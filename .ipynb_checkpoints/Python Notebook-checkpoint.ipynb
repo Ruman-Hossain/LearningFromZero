{
 "cells": [
  {
   "cell_type": "code",
   "execution_count": null,
   "id": "2e30063a-c4e2-4e65-b083-bf139ac7b8e3",
   "metadata": {},
   "outputs": [],
   "source": [
    "Python Print Syntax\n",
    "\n",
    "Syntax: print(value(s), sep= ‘ ‘, end = ‘\\n’, file=file, flush=flush)\n",
    "\n",
    "Parameters: \n",
    "value(s) : Any value, and as many as you like. Will be converted to string before printed \n",
    "sep=’separator’ : (Optional) Specify how to separate the objects, if there is more than one.Default :’ ‘ \n",
    "end=’end’: (Optional) Specify what to print at the end.Default : ‘\\n’ \n",
    "file : (Optional) An object with a write method. Default :sys.stdout \n",
    "flush : (Optional) A Boolean, specifying if the output is flushed (True) or buffered (False). Default: False\n",
    "Returns: It returns output to the screen."
   ]
  },
  {
   "cell_type": "code",
   "execution_count": 6,
   "id": "031797b8-a998-4621-85c2-35b373a6b515",
   "metadata": {},
   "outputs": [
    {
     "name": "stdout",
     "output_type": "stream",
     "text": [
      "Ruman\n",
      "Ruman Hossain\n",
      "G@F@G\n",
      "https://www.geeksforgeeks.org/python-output-formatting/\n"
     ]
    }
   ],
   "source": [
    "print('Ruman') #Auto New Line\n",
    "print('Ruman',end='')  #No new Line\n",
    "print(' Hossain',end='\\n')  #New Line\n",
    "print('G', 'F', 'G', sep ='@') #Seperator\n",
    "\n",
    "print('https://www.geeksforgeeks.org/python-output-formatting/')"
   ]
  },
  {
   "cell_type": "code",
   "execution_count": 27,
   "id": "699ea79d-cd02-4a56-812a-1f36b6efb6a5",
   "metadata": {},
   "outputs": [
    {
     "name": "stdout",
     "output_type": "stream",
     "text": [
      "Geeks :  1, Portal :  5.33\n",
      "Total students : 240, Boys : 120\n",
      "Number one portal is Geeks, For, and Geeks.\n",
      "Geeks :12, Portal :    0.55\n",
      "Second argument:  11, first one:   47.42\n",
      "Geeks:   453,  Portal:    59.06\n"
     ]
    }
   ],
   "source": [
    "#__________________PRINT FORMATTING_____________________#\n",
    "print(\"Geeks : %2d, Portal : %5.2f\" % (1, 05.333))\n",
    "# print integer value\n",
    "print(\"Total students : %3d, Boys : %2d\" % (240, 120))\n",
    "\n",
    "# combining positional and keyword arguments\n",
    "print('Number one portal is {0}, {1}, and {other}.'\n",
    "     .format('Geeks', 'For', other ='Geeks'))\n",
    " \n",
    "# using format() method with number\n",
    "print(\"Geeks :{0:2d}, Portal :{1:8.2f}\".\n",
    "      format(12, 00.546))\n",
    " \n",
    "# Changing positional argument\n",
    "print(\"Second argument: {1:3d}, first one: {0:7.2f}\".\n",
    "      format(47.42, 11))\n",
    " \n",
    "print(\"Geeks: {a:5d},  Portal: {p:8.2f}\".\n",
    "     format(a = 453, p = 59.058))\n",
    "\n",
    "\n"
   ]
  },
  {
   "cell_type": "code",
   "execution_count": 29,
   "id": "6ae80025-69c0-4e36-b76c-02c5021e83a3",
   "metadata": {},
   "outputs": [
    {
     "name": "stdout",
     "output_type": "stream",
     "text": [
      "Geeks: 4127; For: 4098; Geeks: 8637678\n",
      "I love GeeksForGeeks computer Portal\n"
     ]
    }
   ],
   "source": [
    "#_________________FORMAT() Used In Dictionary ________________#\n",
    "# Python program to\n",
    "# show format () is\n",
    "# used in dictionary\n",
    "\n",
    "tab = {'geeks': 4127, 'for': 4098, 'geek': 8637678}\n",
    " \n",
    "# using format() in dictionary\n",
    "print('Geeks: {0[geeks]:d}; For: {0[for]:d}; '\n",
    "    'Geeks: {0[geek]:d}'.format(tab))\n",
    " \n",
    "data = dict(fun =\"GeeksForGeeks\", adj =\"Portal\")\n",
    " \n",
    "# using format() in dictionary\n",
    "print(\"I love {fun} computer {adj}\".format(**data))\n",
    "\n",
    "\n"
   ]
  },
  {
   "cell_type": "code",
   "execution_count": 30,
   "id": "1d008133-7f06-402d-881a-abdf6bcf934d",
   "metadata": {},
   "outputs": [
    {
     "name": "stdout",
     "output_type": "stream",
     "text": [
      "Center aligned string with fillchr: \n",
      "##########I love geeksforgeeks##########\n",
      "The left aligned string is : \n",
      "I love geeksforgeeks--------------------\n",
      "The right aligned string is : \n",
      "--------------------I love geeksforgeeks\n"
     ]
    }
   ],
   "source": [
    "#______________________FORMAT() Used in String() Method______________#\n",
    "# Python program to\n",
    "# format a output using\n",
    "# string() method\n",
    " \n",
    "cstr = \"I love geeksforgeeks\"\n",
    "   \n",
    "# Printing the center aligned \n",
    "# string with fillchr\n",
    "print (\"Center aligned string with fillchr: \")\n",
    "print (cstr.center(40, '#'))\n",
    " \n",
    "# Printing the left aligned \n",
    "# string with \"-\" padding \n",
    "print (\"The left aligned string is : \")\n",
    "print (cstr.ljust(40, '-'))\n",
    " \n",
    "# Printing the right aligned string\n",
    "# with \"-\" padding \n",
    "print (\"The right aligned string is : \")\n",
    "print (cstr.rjust(40, '-'))"
   ]
  },
  {
   "cell_type": "code",
   "execution_count": 26,
   "id": "679e072c-14ee-4930-932a-854a97d6e701",
   "metadata": {},
   "outputs": [
    {
     "name": "stdout",
     "output_type": "stream",
     "text": [
      "1 2 3 4 5 6\n"
     ]
    }
   ],
   "source": [
    "#________________Print without newline in Python 3.x without using for loop_____________#\n",
    "\n",
    "l=[1,2,3,4,5,6]\n",
    "\n",
    "# using * symbol prints the list\n",
    "# elements in a single line\n",
    "print(*l)"
   ]
  },
  {
   "cell_type": "code",
   "execution_count": 23,
   "id": "0d2cab84-7022-4460-b07f-ebdf64aed82a",
   "metadata": {},
   "outputs": [
    {
     "name": "stdout",
     "output_type": "stream",
     "text": [
      "True\n",
      "True\n"
     ]
    }
   ],
   "source": [
    "#______________________Identity Operators_______________________#\n",
    "# is and is not are the identity operators both are used to check if two values are located on the same part of the memory. Two variables that are equal do not imply that they are identical. \n",
    "# is          True if the operands are identical \n",
    "# is not      True if the operands are not identical \n",
    "\n",
    "a = 10\n",
    "b = 20\n",
    "c = a\n",
    " \n",
    "print(a is not b)\n",
    "print(a is c)"
   ]
  },
  {
   "cell_type": "code",
   "execution_count": 24,
   "id": "5e7f668d-e772-467f-8784-69a148af5cec",
   "metadata": {},
   "outputs": [
    {
     "name": "stdout",
     "output_type": "stream",
     "text": [
      "10\n"
     ]
    }
   ],
   "source": [
    "#_____________Simple Method to use ternary operator:________________#\n",
    "# Program to demonstrate conditional operator\n",
    "a, b = 10, 20\n",
    " \n",
    "# Copy value of a in min if a < b else copy b\n",
    "min = a if a < b else b\n",
    " \n",
    "print(min)"
   ]
  },
  {
   "cell_type": "code",
   "execution_count": 31,
   "id": "a9314519-e223-44a3-bd10-7bca124079e3",
   "metadata": {},
   "outputs": [
    {
     "name": "stdout",
     "output_type": "stream",
     "text": [
      "10\n"
     ]
    }
   ],
   "source": [
    "\n",
    "#__________________Program to demonstrate conditional operator_____________#\n",
    "a, b = 10, 20\n",
    "# If a is less than b, then a is assigned\n",
    "# else b is assigned (Note : it doesn't\n",
    "# work if a is 0.\n",
    "min = a < b and a or b\n",
    " \n",
    "print(min)"
   ]
  },
  {
   "cell_type": "code",
   "execution_count": 25,
   "id": "c4e50076-f7b5-4e28-9f07-7982fb72268c",
   "metadata": {},
   "outputs": [
    {
     "name": "stdout",
     "output_type": "stream",
     "text": [
      "10\n",
      "10\n",
      "10\n"
     ]
    }
   ],
   "source": [
    "#______________Direct Method by using tuples, Dictionary, and lambda ___________#\n",
    "# Python program to demonstrate ternary operator\n",
    "a, b = 10, 20\n",
    "\n",
    "# Use tuple for selecting an item\n",
    "# (if_test_false,if_test_true)[test]\n",
    "# if [a<b] is true it return 1, so element with 1 index will print\n",
    "# else if [a<b] is false it return 0, so element with 0 index will print\n",
    "print( (b, a) [a < b] )\n",
    "\n",
    "# Use Dictionary for selecting an item\n",
    "# if [a < b] is true then value of True key will print\n",
    "# elif [a<b] is false then value of False key will print\n",
    "print({True: a, False: b} [a < b])\n",
    "\n",
    "# lamda is more efficient than above two methods\n",
    "# because in lambda we are assure that\n",
    "# only one expression will be evaluated unlike in\n",
    "# tuple and Dictionary\n",
    "print((lambda: b, lambda: a)[a < b]())\n"
   ]
  },
  {
   "cell_type": "code",
   "execution_count": 35,
   "id": "77de6fcf-ade1-4392-8965-f74e7244c1ce",
   "metadata": {},
   "outputs": [
    {
     "name": "stdout",
     "output_type": "stream",
     "text": [
      "For Integer Numbers if used '//'\n",
      "2\n",
      "-3\n",
      "For Floating Point Numbers if used '/'\n",
      "2.5\n",
      "-2.5\n"
     ]
    }
   ],
   "source": [
    "#_______________DIFFERENCE IN DIFFERENT SITUATION OF USING \"//\" and \"/\" _____________#\n",
    "print(\"For Integer Numbers if used '//'\")\n",
    "print (5//2)\n",
    "print (-5//2)\n",
    "\n",
    "print(\"For Floating Point Numbers if used '/'\")\n",
    "print (5.0/2)\n",
    "print (-5.0/2)\n",
    "\n"
   ]
  },
  {
   "cell_type": "code",
   "execution_count": 5,
   "id": "19d4d1b3-d50a-4f85-9f4c-564c7bb61cce",
   "metadata": {},
   "outputs": [
    {
     "name": "stdout",
     "output_type": "stream",
     "text": [
      "https://www.geeksforgeeks.org/operator-overloading-in-python/\n"
     ]
    }
   ],
   "source": [
    "#_________________________Operator Overloading Must Watch______________________#\n",
    "\n",
    "print('https://www.geeksforgeeks.org/operator-overloading-in-python/')"
   ]
  },
  {
   "cell_type": "code",
   "execution_count": 4,
   "id": "3cee2014-4cf0-4cd3-b9ca-0f2f83fa7bb0",
   "metadata": {},
   "outputs": [
    {
     "name": "stdout",
     "output_type": "stream",
     "text": [
      "The addition of numbers is :7\n",
      "The difference of numbers is :3\n",
      "The product of numbers is :10\n",
      "The true division of numbers is : 2.5\n",
      "The floor division of numbers is : 2\n",
      "The exponentiation of numbers is : 25\n",
      "The modulus of numbers is : 1\n",
      "https://www.geeksforgeeks.org/operator-functions-in-python-set-1/\n"
     ]
    }
   ],
   "source": [
    "#___________________________PYTHON PRE DEFINED FUNCTIONS______________________________#\n",
    "#___________________________PYTHON PREDEFINED FUNCTIONS_______________________________#\n",
    "# importing operator module \n",
    "import operator\n",
    "  \n",
    "# Initializing variables\n",
    "a = 5\n",
    "  \n",
    "b = 2\n",
    "  \n",
    "# using add() to add two numbers\n",
    "print (\"The addition of numbers is :\",end=\"\");\n",
    "print (operator.add(a, b))\n",
    "  \n",
    "# using sub() to subtract two numbers\n",
    "print (\"The difference of numbers is :\",end=\"\");\n",
    "print (operator.sub(a, b))\n",
    "  \n",
    "# using mul() to multiply two numbers\n",
    "print (\"The product of numbers is :\",end=\"\");\n",
    "print (operator.mul(a, b))\n",
    "\n",
    "# using truediv() to divide two numbers\n",
    "print (\"The true division of numbers is : \",end=\"\");\n",
    "print (operator.truediv(a,b))\n",
    "  \n",
    "# using floordiv() to divide two numbers\n",
    "print (\"The floor division of numbers is : \",end=\"\");\n",
    "print (operator.floordiv(a,b))\n",
    "  \n",
    "# using pow() to exponentiate two numbers\n",
    "print (\"The exponentiation of numbers is : \",end=\"\");\n",
    "print (operator.pow(a,b))\n",
    "  \n",
    "# using mod() to take modulus of two numbers\n",
    "print (\"The modulus of numbers is : \",end=\"\");\n",
    "print (operator.mod(a,b))\n",
    "\n",
    "print('https://www.geeksforgeeks.org/operator-functions-in-python-set-1/')"
   ]
  },
  {
   "cell_type": "code",
   "execution_count": null,
   "id": "63adaab7-d3a6-4e5b-aa80-4fd597c1c641",
   "metadata": {},
   "outputs": [],
   "source": []
  }
 ],
 "metadata": {
  "kernelspec": {
   "display_name": "Python 3 (ipykernel)",
   "language": "python",
   "name": "python3"
  },
  "language_info": {
   "codemirror_mode": {
    "name": "ipython",
    "version": 3
   },
   "file_extension": ".py",
   "mimetype": "text/x-python",
   "name": "python",
   "nbconvert_exporter": "python",
   "pygments_lexer": "ipython3",
   "version": "3.9.5"
  }
 },
 "nbformat": 4,
 "nbformat_minor": 5
}
